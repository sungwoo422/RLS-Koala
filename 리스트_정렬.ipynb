{
  "nbformat": 4,
  "nbformat_minor": 0,
  "metadata": {
    "colab": {
      "name": "리스트 정렬",
      "provenance": [],
      "private_outputs": true,
      "authorship_tag": "ABX9TyPlusVC0r98hOOUyaoASbb9",
      "include_colab_link": true
    },
    "kernelspec": {
      "name": "python3",
      "display_name": "Python 3"
    }
  },
  "cells": [
    {
      "cell_type": "markdown",
      "metadata": {
        "id": "view-in-github",
        "colab_type": "text"
      },
      "source": [
        "<a href=\"https://colab.research.google.com/github/sungwoo422/RLS-Koala/blob/main/%EB%A6%AC%EC%8A%A4%ED%8A%B8_%EC%A0%95%EB%A0%AC.ipynb\" target=\"_parent\"><img src=\"https://colab.research.google.com/assets/colab-badge.svg\" alt=\"Open In Colab\"/></a>"
      ]
    },
    {
      "cell_type": "code",
      "metadata": {
        "id": "4DcADSLRbJvp"
      },
      "source": [
        "list=[1,3,2,7,5,9,8]\n",
        "list.sort()\n",
        "list"
      ],
      "execution_count": null,
      "outputs": []
    }
  ]
}